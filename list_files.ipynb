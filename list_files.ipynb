{
 "metadata": {
  "name": "list_files"
 },
 "nbformat": 3,
 "nbformat_minor": 0,
 "worksheets": [
  {
   "cells": [
    {
     "cell_type": "code",
     "collapsed": false,
     "input": [
      "import os\n",
      "from fnmatch import fnmatch"
     ],
     "language": "python",
     "metadata": {},
     "outputs": [],
     "prompt_number": 11
    },
    {
     "cell_type": "code",
     "collapsed": false,
     "input": [
      "def get_file_list(the_dir,the_txt,fix=\"post\",walk=False,sort=True):\n",
      "\n",
      "    \"\"\"\n",
      "    Generate a list of files from the_dir and the pre/post fix. Return as list.\n",
      "    the_txt : the text that will be put at the end *\"post\", beginning \"pre\"*, or bracketing \"prepost\" (pre*post, as list)\n",
      "    fix     : {\"pre\",\"post\",\"prepost\"} depending on how you prefer to search for files\n",
      "    walk    : True when we specify all subdirs to generate file list from (XXX NOT IMPLEMENTED XXX)\n",
      "    sort    : natural sort filenames\n",
      "    \n",
      "    e.g., all_txt_files=get_file_list(\"/my/cool/dir\",\".txt\") #returns sorted list of *.txt files\n",
      "    \"\"\"\n",
      "    \n",
      "    import os\n",
      "    from fnmatch import fnmatch\n",
      "    \n",
      "    def natural_sort(l): \n",
      "        import re\n",
      "        convert = lambda text: int(text) if text.isdigit() else text.lower() \n",
      "        alphanum_key = lambda key: [ convert(c) for c in re.split('([0-9]+)', key) ] \n",
      "        return sorted(l, key = alphanum_key)\n",
      "    \n",
      "    the_dir=os.abspath(the_dir)\n",
      "    if walk:\n",
      "        print(\"SOMETHING COOL IS SUPPOSED TO HAPPEN HERE WITH os.walk\")\n",
      "        #generate the list of files based on os.walk\n",
      "        #while we are not at the end of the list of dirs\n",
      "        the_walk=os.walk(the_dir) #generate the walk\n",
      "        \n",
      "    else:\n",
      "        the_files=os.listdir(the_dir)\n",
      "    \n",
      "    if fix==\"post\":\n",
      "        search_pattern=\"*\"+the_txt\n",
      "    elif fix==\"pre\":\n",
      "        search_pattern=the_txt+\"*\"\n",
      "    elif fix==\"prepost\":\n",
      "        search_pattern=the_txt[0]+\"*\"+the_txt[1]\n",
      "    else:\n",
      "        print(\"You didn't select pre/post/prepost for search string.\")\n",
      "        return #XXX return an error?\n",
      "\n",
      "    file_list=[]\n",
      "    for a_file in the_files:\n",
      "        if not(os.path.isdir(os.path.join(the_dir,a_file))) and fnmatch(a_file,search_pattern):\n",
      "            file_list.append(os.path.join(the_dir,a_file))\n",
      "    if sort:\n",
      "        return natural_sort(file_list)\n",
      "    else:\n",
      "        return file_list"
     ],
     "language": "python",
     "metadata": {},
     "outputs": [],
     "prompt_number": 51
    },
    {
     "cell_type": "code",
     "collapsed": false,
     "input": [
      "print(get_file_list(\".\",\".trk\",fix=\"post\",sort=True))"
     ],
     "language": "python",
     "metadata": {},
     "outputs": [
      {
       "output_type": "stream",
       "stream": "stdout",
       "text": [
        "['/home/chris/scripts/python/ni_utils/XXX_TEST_data_CSD_tracked_L_VI_5K.trk', '/home/chris/scripts/python/ni_utils/XXX_TEST_data_CSD_tracked_L_VI_5K_X_XXX_TEST_lesion_mask_cut.trk', '/home/chris/scripts/python/ni_utils/XXX_TEST_data_CSD_tracked_L_VI_5K_X_XXX_TEST_lesion_mask_masked.trk', '/home/chris/scripts/python/ni_utils/XXX_TEST_data_CSD_tracked_L_VI_5K_XxX_XXX_TEST_lesion_mask_cut.trk', '/home/chris/scripts/python/ni_utils/XXX_TEST_data_CSD_tracked_L_VI_5K_XxX_XXX_TEST_lesion_mask_masked.trk', '/home/chris/scripts/python/ni_utils/XXX_XXX_inout.trk']\n"
       ]
      }
     ],
     "prompt_number": 54
    },
    {
     "cell_type": "code",
     "collapsed": false,
     "input": [
      "in_files=get_file_list(\".\",\".trk\",fix=\"post\",sort=True)\n",
      "#in_files\n",
      "in_files[0].split(\"/\")[-1-2]\n",
      "str.replace?\n",
      "#abs(-1)\n",
      "#str.split?\n",
      "#os.path.dirname?"
     ],
     "language": "python",
     "metadata": {},
     "outputs": [],
     "prompt_number": 136
    },
    {
     "cell_type": "code",
     "collapsed": false,
     "input": [
      "def prepend_ID(filename_list,use_full_path=False,alt_path_dir=None,ID_loc=1):\n",
      "    \"\"\"\n",
      "    Prepends a specific subdirectory, specified by ID_loc, to the filenames in filename_list. Replaces any \".\" in ID to \"-\".\n",
      "    use_full_path = False  : use the full path of each file in the input list to as path in the output list\n",
      "    alt_path_dir  = \"\"     : alternate path, relative or absolute location\n",
      "    ID_loc        = 1      : specify which subdir contains ID information for prepending to new filename - 1 is the rightmost (last) subdirectory, 2 is the 2nd to last, ... n is the nth to last\n",
      "    \n",
      "    \"\"\"\n",
      "    import os\n",
      "\n",
      "    if use_full_path:\n",
      "        print(\"Generating ID-prepended file list without changing file paths.\")\n",
      "    elif not(alt_path_dir==None):\n",
      "        print(\"Generating ID-prepended file list with alternate path: \" +os.path.abspath(alt_path_dir))\n",
      "    else:\n",
      "        print(\"Generating ID-prepended file list without paths. You will need to add them yourself.\")\n",
      "    \n",
      "    out_list=[]\n",
      "    for the_file in filename_list:\n",
      "        ID=os.path.dirname(the_file).split(\"/\")[(-abs(ID_loc))].replace(\".\",\"-\") #take the appropriate subdir and convert it to an ID that replaces \".\" with \"-\"\n",
      "    \n",
      "        #change the path according to if we want to create these files somewhere else or not\n",
      "        if use_full_path:\n",
      "            full_ID=os.path.join(os.path.dirname(the_file),ID)\n",
      "        elif not(alt_path_dir==None):\n",
      "            full_ID=os.path.join(os.path.abspath(alt_path_dir),ID)\n",
      "        else:\n",
      "            full_ID=ID\n",
      "            \n",
      "        out_list.append(full_ID+\"_\"+os.path.basename(the_file))\n",
      "    return out_list"
     ],
     "language": "python",
     "metadata": {},
     "outputs": [],
     "prompt_number": 179
    },
    {
     "cell_type": "code",
     "collapsed": false,
     "input": [
      "a=prepend_ID(in_files,ID_loc=1)\n",
      "print(a)\n"
     ],
     "language": "python",
     "metadata": {},
     "outputs": [
      {
       "output_type": "stream",
       "stream": "stdout",
       "text": [
        "Generating ID-prepended file list without paths. You will need to add them yourself.\n",
        "['ni_utils_XXX_TEST_data_CSD_tracked_L_VI_5K.trk', 'ni_utils_XXX_TEST_data_CSD_tracked_L_VI_5K_X_XXX_TEST_lesion_mask_cut.trk', 'ni_utils_XXX_TEST_data_CSD_tracked_L_VI_5K_X_XXX_TEST_lesion_mask_masked.trk', 'ni_utils_XXX_TEST_data_CSD_tracked_L_VI_5K_XxX_XXX_TEST_lesion_mask_cut.trk', 'ni_utils_XXX_TEST_data_CSD_tracked_L_VI_5K_XxX_XXX_TEST_lesion_mask_masked.trk', 'ni_utils_XXX_XXX_inout.trk']\n"
       ]
      }
     ],
     "prompt_number": 180
    },
    {
     "cell_type": "code",
     "collapsed": false,
     "input": [
      "a=os.walk(\"../\")\n",
      "print(a.next())\n",
      "#iter?\n",
      "for b in iter(a.next()):\n",
      "    print(b)\n",
      "    \n",
      "import re\n",
      "lambda?"
     ],
     "language": "python",
     "metadata": {},
     "outputs": [
      {
       "output_type": "stream",
       "stream": "stdout",
       "text": [
        "('../', ['git_repo', 'expyriment', 'ni_utils', 'git-hg', 'fast-export', 'pyrtmidi'], [])\n",
        "../git_repo\n",
        "['.git']\n",
        "[]\n",
        "Object `lambda` not found.\n"
       ]
      }
     ],
     "prompt_number": 175
    },
    {
     "cell_type": "code",
     "collapsed": false,
     "input": [
      "sorted?"
     ],
     "language": "python",
     "metadata": {},
     "outputs": [],
     "prompt_number": 176
    }
   ],
   "metadata": {}
  }
 ]
}